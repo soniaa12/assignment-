{
 "cells": [
  {
   "cell_type": "code",
   "execution_count": 1,
   "id": "150727b2",
   "metadata": {},
   "outputs": [
    {
     "name": "stdout",
     "output_type": "stream",
     "text": [
      "375.0\n"
     ]
    }
   ],
   "source": [
    "hours=30.0\n",
    "rate=12.50\n",
    "pay=hours*rate\n",
    "print(pay)"
   ]
  },
  {
   "cell_type": "code",
   "execution_count": 2,
   "id": "3f9c5484",
   "metadata": {},
   "outputs": [
    {
     "name": "stdout",
     "output_type": "stream",
     "text": [
      "4\n"
     ]
    }
   ],
   "source": [
    "x=2\n",
    "x=x+2\n",
    "print(x)"
   ]
  },
  {
   "cell_type": "code",
   "execution_count": 3,
   "id": "71e0738c",
   "metadata": {},
   "outputs": [
    {
     "name": "stdout",
     "output_type": "stream",
     "text": [
      "-46.8\n"
     ]
    }
   ],
   "source": [
    "x=3.9*x*(1-x)\n",
    "print(x)"
   ]
  },
  {
   "cell_type": "code",
   "execution_count": 4,
   "id": "03a605dd",
   "metadata": {},
   "outputs": [
    {
     "data": {
      "text/plain": [
       "float"
      ]
     },
     "execution_count": 4,
     "metadata": {},
     "output_type": "execute_result"
    }
   ],
   "source": [
    "type(x)"
   ]
  },
  {
   "cell_type": "markdown",
   "id": "9de1fa86",
   "metadata": {},
   "source": [
    "# concatenation"
   ]
  },
  {
   "cell_type": "code",
   "execution_count": 5,
   "id": "658516de",
   "metadata": {},
   "outputs": [],
   "source": [
    "ee='hello '+ 'world'"
   ]
  },
  {
   "cell_type": "code",
   "execution_count": 6,
   "id": "6fb78f16",
   "metadata": {},
   "outputs": [
    {
     "name": "stdout",
     "output_type": "stream",
     "text": [
      "hello world\n"
     ]
    }
   ],
   "source": [
    "print(ee)"
   ]
  },
  {
   "cell_type": "markdown",
   "id": "62317345",
   "metadata": {},
   "source": [
    "# we cannot add in alphabetic string\n",
    "# we only add in numeric string"
   ]
  },
  {
   "cell_type": "code",
   "execution_count": 7,
   "id": "3abeef03",
   "metadata": {},
   "outputs": [
    {
     "ename": "TypeError",
     "evalue": "can only concatenate str (not \"int\") to str",
     "output_type": "error",
     "traceback": [
      "\u001b[1;31m---------------------------------------------------------------------------\u001b[0m",
      "\u001b[1;31mTypeError\u001b[0m                                 Traceback (most recent call last)",
      "\u001b[1;32m~\\AppData\\Local\\Temp\\ipykernel_8644\\1933890260.py\u001b[0m in \u001b[0;36m<module>\u001b[1;34m\u001b[0m\n\u001b[1;32m----> 1\u001b[1;33m \u001b[0mee\u001b[0m\u001b[1;33m=\u001b[0m\u001b[0mee\u001b[0m\u001b[1;33m+\u001b[0m\u001b[1;36m1\u001b[0m\u001b[1;33m\u001b[0m\u001b[1;33m\u001b[0m\u001b[0m\n\u001b[0m\u001b[0;32m      2\u001b[0m \u001b[0mprint\u001b[0m\u001b[1;33m(\u001b[0m\u001b[0mee\u001b[0m\u001b[1;33m)\u001b[0m\u001b[1;33m\u001b[0m\u001b[1;33m\u001b[0m\u001b[0m\n",
      "\u001b[1;31mTypeError\u001b[0m: can only concatenate str (not \"int\") to str"
     ]
    }
   ],
   "source": [
    "ee=ee+1\n",
    "print(ee)"
   ]
  },
  {
   "cell_type": "code",
   "execution_count": 11,
   "id": "85fc0e3c",
   "metadata": {},
   "outputs": [
    {
     "name": "stdout",
     "output_type": "stream",
     "text": [
      "3\n"
     ]
    }
   ],
   "source": [
    "ee=2\n",
    "ee=ee+1\n",
    "print(ee)"
   ]
  },
  {
   "cell_type": "markdown",
   "id": "bb56033f",
   "metadata": {},
   "source": [
    "# type"
   ]
  },
  {
   "cell_type": "code",
   "execution_count": 12,
   "id": "428c3451",
   "metadata": {},
   "outputs": [
    {
     "data": {
      "text/plain": [
       "int"
      ]
     },
     "execution_count": 12,
     "metadata": {},
     "output_type": "execute_result"
    }
   ],
   "source": [
    "type(ee)"
   ]
  },
  {
   "cell_type": "markdown",
   "id": "528eadee",
   "metadata": {},
   "source": [
    "# conversion"
   ]
  },
  {
   "cell_type": "code",
   "execution_count": 15,
   "id": "a603a36a",
   "metadata": {},
   "outputs": [
    {
     "name": "stdout",
     "output_type": "stream",
     "text": [
      "199.0\n"
     ]
    }
   ],
   "source": [
    "print(float(99+100))"
   ]
  },
  {
   "cell_type": "code",
   "execution_count": 21,
   "id": "2778522b",
   "metadata": {},
   "outputs": [
    {
     "data": {
      "text/plain": [
       "int"
      ]
     },
     "execution_count": 21,
     "metadata": {},
     "output_type": "execute_result"
    }
   ],
   "source": [
    "i=45\n",
    "type(i)"
   ]
  },
  {
   "cell_type": "code",
   "execution_count": 18,
   "id": "c32dd84c",
   "metadata": {},
   "outputs": [
    {
     "name": "stdout",
     "output_type": "stream",
     "text": [
      "42.0\n"
     ]
    }
   ],
   "source": [
    "print(float(i))"
   ]
  },
  {
   "cell_type": "markdown",
   "id": "24d0e429",
   "metadata": {},
   "source": [
    "# integer division"
   ]
  },
  {
   "cell_type": "code",
   "execution_count": 19,
   "id": "60409780",
   "metadata": {},
   "outputs": [
    {
     "name": "stdout",
     "output_type": "stream",
     "text": [
      "2.0\n"
     ]
    }
   ],
   "source": [
    "print(10/5)"
   ]
  },
  {
   "cell_type": "code",
   "execution_count": 20,
   "id": "727ff650",
   "metadata": {},
   "outputs": [
    {
     "name": "stdout",
     "output_type": "stream",
     "text": [
      "4.5\n"
     ]
    }
   ],
   "source": [
    "print(9/2)"
   ]
  },
  {
   "cell_type": "markdown",
   "id": "5e33b942",
   "metadata": {},
   "source": [
    "# string conversion"
   ]
  },
  {
   "cell_type": "code",
   "execution_count": 22,
   "id": "370f4bd6",
   "metadata": {},
   "outputs": [
    {
     "data": {
      "text/plain": [
       "str"
      ]
     },
     "execution_count": 22,
     "metadata": {},
     "output_type": "execute_result"
    }
   ],
   "source": [
    "ab='123'\n",
    "type(ab)"
   ]
  },
  {
   "cell_type": "code",
   "execution_count": 26,
   "id": "b6c1378b",
   "metadata": {},
   "outputs": [
    {
     "data": {
      "text/plain": [
       "int"
      ]
     },
     "execution_count": 26,
     "metadata": {},
     "output_type": "execute_result"
    }
   ],
   "source": [
    "abc=int(ab)\n",
    "type(abc)"
   ]
  },
  {
   "cell_type": "code",
   "execution_count": 27,
   "id": "244d7ec9",
   "metadata": {},
   "outputs": [
    {
     "data": {
      "text/plain": [
       "str"
      ]
     },
     "execution_count": 27,
     "metadata": {},
     "output_type": "execute_result"
    }
   ],
   "source": [
    "type(ab)"
   ]
  },
  {
   "cell_type": "markdown",
   "id": "0107627c",
   "metadata": {},
   "source": [
    "# input from user"
   ]
  },
  {
   "cell_type": "code",
   "execution_count": 28,
   "id": "ffcf2c29",
   "metadata": {},
   "outputs": [
    {
     "name": "stdout",
     "output_type": "stream",
     "text": [
      "enter your namesadia\n"
     ]
    }
   ],
   "source": [
    "sadia=input('enter your name')"
   ]
  },
  {
   "cell_type": "code",
   "execution_count": 29,
   "id": "53c91c78",
   "metadata": {},
   "outputs": [
    {
     "name": "stdout",
     "output_type": "stream",
     "text": [
      " what is your name  sadia\n",
      "assalamu alaikum   sadia\n"
     ]
    }
   ],
   "source": [
    "sadia=input(' what is your name  ')\n",
    "print(\"assalamu alaikum  \" ,sadia)"
   ]
  },
  {
   "cell_type": "markdown",
   "id": "a08223c0",
   "metadata": {},
   "source": [
    "# converting user type"
   ]
  },
  {
   "cell_type": "code",
   "execution_count": 34,
   "id": "46eea642",
   "metadata": {},
   "outputs": [
    {
     "name": "stdout",
     "output_type": "stream",
     "text": [
      "cas department floar2\n",
      "paal lab 3\n"
     ]
    }
   ],
   "source": [
    "a=input(\"cas department floar\")\n",
    "b=int(a) +1\n",
    "print('paal lab' ,b)"
   ]
  },
  {
   "cell_type": "code",
   "execution_count": 35,
   "id": "5485f00c",
   "metadata": {},
   "outputs": [
    {
     "name": "stdout",
     "output_type": "stream",
     "text": [
      "cas department floar2\n",
      "paal lab 2\n"
     ]
    }
   ],
   "source": [
    "a=input(\"cas department floar\")\n",
    "b=int(a) \n",
    "print('paal lab' ,b)"
   ]
  },
  {
   "cell_type": "code",
   "execution_count": null,
   "id": "5bb86164",
   "metadata": {},
   "outputs": [],
   "source": []
  }
 ],
 "metadata": {
  "kernelspec": {
   "display_name": "Python 3 (ipykernel)",
   "language": "python",
   "name": "python3"
  },
  "language_info": {
   "codemirror_mode": {
    "name": "ipython",
    "version": 3
   },
   "file_extension": ".py",
   "mimetype": "text/x-python",
   "name": "python",
   "nbconvert_exporter": "python",
   "pygments_lexer": "ipython3",
   "version": "3.9.13"
  }
 },
 "nbformat": 4,
 "nbformat_minor": 5
}
