{
 "cells": [
  {
   "cell_type": "markdown",
   "id": "f5f2c6d3",
   "metadata": {},
   "source": [
    "# Python Functions:\n",
    "- A function is a block of code which only runs when it is called.\n",
    "\n",
    "- You can pass data, known as parameters, into a function.\n",
    "\n",
    "- A function can return data as a result.\n",
    "\n",
    "## Creating a Function\n",
    "- In Python a function is defined using the def keyword:\n",
    "\n",
    "### Example"
   ]
  },
  {
   "cell_type": "markdown",
   "id": "81ba7d21",
   "metadata": {},
   "source": [
    "# Types of function\n",
    "- There are two types of function in Python programming:\n",
    "\n",
    "- Standard library functions - These are built-in functions in Python that are available to use.\n",
    "User-defined functions - We can create our own functions based on our requirements."
   ]
  },
  {
   "cell_type": "code",
   "execution_count": 5,
   "id": "1006edbb",
   "metadata": {},
   "outputs": [],
   "source": [
    "def me():\n",
    "    print('hello form a function')"
   ]
  },
  {
   "cell_type": "markdown",
   "id": "78a46a09",
   "metadata": {},
   "source": [
    "# Calling a Function\n",
    "- To call a function, use the function name followed by parenthesis:"
   ]
  },
  {
   "cell_type": "code",
   "execution_count": 6,
   "id": "e0c82ef7",
   "metadata": {},
   "outputs": [
    {
     "name": "stdout",
     "output_type": "stream",
     "text": [
      "hellow form a function\n"
     ]
    }
   ],
   "source": [
    "def me():\n",
    "    print('hellow form a function')\n",
    "me()"
   ]
  },
  {
   "cell_type": "markdown",
   "id": "a2aca4af",
   "metadata": {},
   "source": [
    "# Arguments\n",
    "- Information can be passed into functions as arguments.\n",
    "\n",
    "- Arguments are specified after the function name, inside the parentheses. You can add as many arguments as you want, just separate them with a comma.\n",
    "\n",
    "- The following example has a function with one argument (fname). When the function is called, we pass along a first name, which is used inside the function to print the full name:"
   ]
  },
  {
   "cell_type": "code",
   "execution_count": 4,
   "id": "6ff72b9a",
   "metadata": {},
   "outputs": [
    {
     "name": "stdout",
     "output_type": "stream",
     "text": [
      "Emil Refsnes\n",
      "Tobias Refsnes\n",
      "Linus Refsnes\n"
     ]
    }
   ],
   "source": [
    "def my_function(fname):\n",
    "  print(fname + \" Refsnes\")\n",
    "\n",
    "my_function(\"Emil\")\n",
    "my_function(\"Tobias\")\n",
    "my_function(\"Linus\")"
   ]
  },
  {
   "cell_type": "code",
   "execution_count": 9,
   "id": "035d5b3a",
   "metadata": {},
   "outputs": [
    {
     "name": "stdout",
     "output_type": "stream",
     "text": [
      "Sum:  8\n"
     ]
    }
   ],
   "source": [
    "# function with two arguments\n",
    "def add_numbers(num1, num2):\n",
    "    sum = num1 + num2\n",
    "    print('Sum: ',sum)\n",
    "add_numbers(5,3)"
   ]
  },
  {
   "cell_type": "code",
   "execution_count": 19,
   "id": "357532d1",
   "metadata": {},
   "outputs": [
    {
     "name": "stdout",
     "output_type": "stream",
     "text": [
      "sadiasadia\n",
      "nabdullah\n",
      "abdullahsadia\n",
      "labdullah\n"
     ]
    }
   ],
   "source": [
    "def my_code(fname,lname):\n",
    "    print(fname+ 'sadia')\n",
    "    print(lname+ 'abdullah')\n",
    "my_code(\"sadia\",'n')\n",
    "my_code(\"abdullah\",'l')\n"
   ]
  },
  {
   "cell_type": "code",
   "execution_count": 21,
   "id": "f5f7f227",
   "metadata": {},
   "outputs": [
    {
     "name": "stdout",
     "output_type": "stream",
     "text": [
      "mul:  30\n"
     ]
    }
   ],
   "source": [
    "def mul_code(n1,n2):\n",
    "    mul=n1*n2\n",
    "    print('mul: ', mul)\n",
    "mul_code(5,6)"
   ]
  },
  {
   "cell_type": "code",
   "execution_count": 22,
   "id": "19cf3f87",
   "metadata": {},
   "outputs": [
    {
     "name": "stdout",
     "output_type": "stream",
     "text": [
      "hello\n",
      "lala\n",
      "zip\n",
      "hello\n",
      "lala\n"
     ]
    }
   ],
   "source": [
    "def thing():\n",
    "    print('hello')\n",
    "    print('lala')\n",
    "thing()\n",
    "print('zip')\n",
    "thing()"
   ]
  },
  {
   "cell_type": "code",
   "execution_count": 23,
   "id": "0de4e719",
   "metadata": {},
   "outputs": [
    {
     "name": "stdout",
     "output_type": "stream",
     "text": [
      "w\n"
     ]
    }
   ],
   "source": [
    "beg=max('hellow')\n",
    "print(beg)"
   ]
  },
  {
   "cell_type": "code",
   "execution_count": 25,
   "id": "0c4a345f",
   "metadata": {},
   "outputs": [
    {
     "name": "stdout",
     "output_type": "stream",
     "text": [
      " \n"
     ]
    }
   ],
   "source": [
    "tiny=min('hellow world')\n",
    "print(tiny)"
   ]
  },
  {
   "cell_type": "code",
   "execution_count": 29,
   "id": "c75c9391",
   "metadata": {},
   "outputs": [
    {
     "name": "stdout",
     "output_type": "stream",
     "text": [
      "not equal\n",
      "is a valid\n",
      "also valid\n"
     ]
    }
   ],
   "source": [
    "def greet(lang):\n",
    "    if lang==2:\n",
    "        print(\"is a valid\")\n",
    "    elif lang == 3:\n",
    "        print(\"also valid\")\n",
    "    else:\n",
    "        print(\"not equal\")\n",
    "greet(5)\n",
    "greet(2)\n",
    "greet(3)"
   ]
  },
  {
   "cell_type": "markdown",
   "id": "d75c9382",
   "metadata": {},
   "source": [
    "# return value\n"
   ]
  },
  {
   "cell_type": "code",
   "execution_count": 30,
   "id": "8440e7ab",
   "metadata": {},
   "outputs": [
    {
     "name": "stdout",
     "output_type": "stream",
     "text": [
      "hello sadia\n",
      "hello abdullah\n"
     ]
    }
   ],
   "source": [
    "def my_add():\n",
    "    return \"hello\"\n",
    "print(my_add(), \"sadia\")\n",
    "print(my_add(),\"abdullah\")"
   ]
  },
  {
   "cell_type": "code",
   "execution_count": null,
   "id": "12099dd1",
   "metadata": {},
   "outputs": [],
   "source": []
  }
 ],
 "metadata": {
  "kernelspec": {
   "display_name": "Python 3 (ipykernel)",
   "language": "python",
   "name": "python3"
  },
  "language_info": {
   "codemirror_mode": {
    "name": "ipython",
    "version": 3
   },
   "file_extension": ".py",
   "mimetype": "text/x-python",
   "name": "python",
   "nbconvert_exporter": "python",
   "pygments_lexer": "ipython3",
   "version": "3.9.13"
  }
 },
 "nbformat": 4,
 "nbformat_minor": 5
}
