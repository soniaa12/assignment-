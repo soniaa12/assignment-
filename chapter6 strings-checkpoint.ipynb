{
 "cells": [
  {
   "cell_type": "markdown",
   "id": "ecd9d3cd",
   "metadata": {},
   "source": [
    "# Python Strings\n",
    "## Strings\n",
    "- Strings in python are surrounded by either single quotation marks, or double quotation marks.\n",
    "\n",
    "- 'hello' is the same as \"hello\".\n",
    "\n",
    "- You can display a string literal with the print() function:"
   ]
  },
  {
   "cell_type": "code",
   "execution_count": 1,
   "id": "b546fb32",
   "metadata": {},
   "outputs": [
    {
     "name": "stdout",
     "output_type": "stream",
     "text": [
      "Hello\n",
      "Hello\n"
     ]
    }
   ],
   "source": [
    "print(\"Hello\")\n",
    "print('Hello')"
   ]
  },
  {
   "cell_type": "markdown",
   "id": "11a69919",
   "metadata": {},
   "source": [
    "## Assign String to a Variable\n",
    "- Assigning a string to a variable is done with the variable name followed by an equal sign and the string:"
   ]
  },
  {
   "cell_type": "code",
   "execution_count": 2,
   "id": "7014b22f",
   "metadata": {},
   "outputs": [
    {
     "name": "stdout",
     "output_type": "stream",
     "text": [
      "HELLOW\n"
     ]
    }
   ],
   "source": [
    "A='HELLOW'\n",
    "print(A)"
   ]
  },
  {
   "cell_type": "markdown",
   "id": "9a05b1b3",
   "metadata": {},
   "source": [
    "# Multiline Strings\n",
    "- You can assign a multiline string to a variable by using three quotes:"
   ]
  },
  {
   "cell_type": "code",
   "execution_count": 3,
   "id": "85c18e77",
   "metadata": {},
   "outputs": [
    {
     "name": "stdout",
     "output_type": "stream",
     "text": [
      "MY NAME IS SADIA , i am a student of mscs\n"
     ]
    }
   ],
   "source": [
    "A='''MY NAME IS SADIA , i am a student of mscs'''\n",
    "print(A)"
   ]
  },
  {
   "cell_type": "markdown",
   "id": "1404f36e",
   "metadata": {},
   "source": [
    "# Strings are Arrays\n",
    "- Like many other popular programming languages, strings in Python are arrays of bytes representing unicode characters.\n",
    "\n",
    "- However, Python does not have a character data type, a single character is simply a string with a length of 1.\n",
    "\n",
    "- Square brackets can be used to access elements of the string.\n",
    "\n",
    "## Example\n",
    "- Get the character at position 1 (remember that the first character has the position 0):"
   ]
  },
  {
   "cell_type": "code",
   "execution_count": 4,
   "id": "a14b6337",
   "metadata": {},
   "outputs": [
    {
     "name": "stdout",
     "output_type": "stream",
     "text": [
      "m\n"
     ]
    }
   ],
   "source": [
    "a='my name is sadia abdullah'\n",
    "print(a[5])"
   ]
  },
  {
   "cell_type": "code",
   "execution_count": 5,
   "id": "a94dc3e8",
   "metadata": {},
   "outputs": [
    {
     "name": "stdout",
     "output_type": "stream",
     "text": [
      "my name is sadia abdullah\n"
     ]
    }
   ],
   "source": [
    "print(a[:])"
   ]
  },
  {
   "cell_type": "code",
   "execution_count": 6,
   "id": "d93421f0",
   "metadata": {},
   "outputs": [
    {
     "name": "stdout",
     "output_type": "stream",
     "text": [
      "my name\n"
     ]
    }
   ],
   "source": [
    "print(a[:7])"
   ]
  },
  {
   "cell_type": "code",
   "execution_count": 7,
   "id": "bad55e7d",
   "metadata": {},
   "outputs": [
    {
     "name": "stdout",
     "output_type": "stream",
     "text": [
      "<class 'str'>\n"
     ]
    }
   ],
   "source": [
    "t=type(a)\n",
    "print(t)"
   ]
  },
  {
   "cell_type": "markdown",
   "id": "be1f0d1f",
   "metadata": {},
   "source": [
    "# sting concatination\n",
    "- +sign use for concatenate the string"
   ]
  },
  {
   "cell_type": "code",
   "execution_count": 11,
   "id": "217e1770",
   "metadata": {},
   "outputs": [
    {
     "name": "stdout",
     "output_type": "stream",
     "text": [
      "sadia  abdullah\n"
     ]
    }
   ],
   "source": [
    "a='sadia'\n",
    "b='  abdullah'\n",
    "c=a + b\n",
    "print(c)"
   ]
  },
  {
   "cell_type": "code",
   "execution_count": 13,
   "id": "881d68d8",
   "metadata": {},
   "outputs": [
    {
     "data": {
      "text/plain": [
       "str"
      ]
     },
     "execution_count": 13,
     "metadata": {},
     "output_type": "execute_result"
    }
   ],
   "source": [
    "type(b)"
   ]
  },
  {
   "cell_type": "code",
   "execution_count": 14,
   "id": "b0528d93",
   "metadata": {},
   "outputs": [
    {
     "ename": "TypeError",
     "evalue": "can only concatenate str (not \"int\") to str",
     "output_type": "error",
     "traceback": [
      "\u001b[1;31m---------------------------------------------------------------------------\u001b[0m",
      "\u001b[1;31mTypeError\u001b[0m                                 Traceback (most recent call last)",
      "\u001b[1;32m~\\AppData\\Local\\Temp\\ipykernel_7260\\3345220957.py\u001b[0m in \u001b[0;36m<module>\u001b[1;34m\u001b[0m\n\u001b[0;32m      1\u001b[0m \u001b[0mstr\u001b[0m\u001b[1;33m=\u001b[0m\u001b[1;34m\"123\"\u001b[0m\u001b[1;33m\u001b[0m\u001b[1;33m\u001b[0m\u001b[0m\n\u001b[1;32m----> 2\u001b[1;33m \u001b[0mstr1\u001b[0m\u001b[1;33m=\u001b[0m\u001b[0mstr\u001b[0m\u001b[1;33m+\u001b[0m\u001b[1;36m1\u001b[0m\u001b[1;33m\u001b[0m\u001b[1;33m\u001b[0m\u001b[0m\n\u001b[0m\u001b[0;32m      3\u001b[0m \u001b[0mprint\u001b[0m\u001b[1;33m(\u001b[0m\u001b[0mstr1\u001b[0m\u001b[1;33m)\u001b[0m\u001b[1;33m\u001b[0m\u001b[1;33m\u001b[0m\u001b[0m\n",
      "\u001b[1;31mTypeError\u001b[0m: can only concatenate str (not \"int\") to str"
     ]
    }
   ],
   "source": [
    "str=\"123\"\n",
    "str1=str+1\n",
    "print(str1)"
   ]
  },
  {
   "cell_type": "code",
   "execution_count": 16,
   "id": "52461999",
   "metadata": {},
   "outputs": [
    {
     "name": "stdout",
     "output_type": "stream",
     "text": [
      "124\n"
     ]
    }
   ],
   "source": [
    "str='123'\n",
    "str2=int(str)+1\n",
    "print(str2)"
   ]
  },
  {
   "cell_type": "markdown",
   "id": "61f91c35",
   "metadata": {},
   "source": [
    "# reading and converting\n",
    "- We prefer to read data in using \n",
    " strings and then parse and \n",
    "  convert the data as we need\n",
    "- This gives us more control over \n",
    "error situations and/or bad user \n",
    "input\n",
    "- Input numbers must be \n",
    "converted from strings"
   ]
  },
  {
   "cell_type": "code",
   "execution_count": 17,
   "id": "df97717e",
   "metadata": {},
   "outputs": [
    {
     "name": "stdout",
     "output_type": "stream",
     "text": [
      "enter your namesadia\n",
      "sadia u r sooo decent\n"
     ]
    }
   ],
   "source": [
    "name=input(\"enter your name\")\n",
    "print(name , 'u r sooo decent')"
   ]
  },
  {
   "cell_type": "code",
   "execution_count": 19,
   "id": "ec711ea4",
   "metadata": {},
   "outputs": [
    {
     "name": "stdout",
     "output_type": "stream",
     "text": [
      "enter45\n",
      "45\n",
      "55\n"
     ]
    }
   ],
   "source": [
    "apple=input(\"enter\")\n",
    "print(apple)\n",
    "x=int(apple) + 10\n",
    "print(x)"
   ]
  },
  {
   "cell_type": "code",
   "execution_count": 21,
   "id": "e27fd88c",
   "metadata": {},
   "outputs": [
    {
     "name": "stdout",
     "output_type": "stream",
     "text": [
      "n\n"
     ]
    }
   ],
   "source": [
    "fruit='banana'\n",
    "print(fruit[4])"
   ]
  },
  {
   "cell_type": "code",
   "execution_count": 22,
   "id": "35b3f87a",
   "metadata": {},
   "outputs": [
    {
     "ename": "IndexError",
     "evalue": "string index out of range",
     "output_type": "error",
     "traceback": [
      "\u001b[1;31m---------------------------------------------------------------------------\u001b[0m",
      "\u001b[1;31mIndexError\u001b[0m                                Traceback (most recent call last)",
      "\u001b[1;32m~\\AppData\\Local\\Temp\\ipykernel_7260\\1003748039.py\u001b[0m in \u001b[0;36m<module>\u001b[1;34m\u001b[0m\n\u001b[1;32m----> 1\u001b[1;33m \u001b[0mprint\u001b[0m\u001b[1;33m(\u001b[0m\u001b[0mfruit\u001b[0m\u001b[1;33m[\u001b[0m\u001b[1;36m6\u001b[0m\u001b[1;33m]\u001b[0m\u001b[1;33m)\u001b[0m\u001b[1;33m\u001b[0m\u001b[1;33m\u001b[0m\u001b[0m\n\u001b[0m",
      "\u001b[1;31mIndexError\u001b[0m: string index out of range"
     ]
    }
   ],
   "source": [
    "print(fruit[6])"
   ]
  },
  {
   "cell_type": "code",
   "execution_count": 23,
   "id": "c44e9788",
   "metadata": {},
   "outputs": [
    {
     "name": "stdout",
     "output_type": "stream",
     "text": [
      "6\n"
     ]
    }
   ],
   "source": [
    "print(len(fruit))"
   ]
  },
  {
   "cell_type": "markdown",
   "id": "510c1e07",
   "metadata": {},
   "source": [
    "# looping through string\n",
    "- Using a while statement, \n",
    "an iteration variable, and \n",
    "the len function, we can \n",
    "construct a loop to look at \n",
    "each of the letters in a \n",
    "string individually"
   ]
  },
  {
   "cell_type": "code",
   "execution_count": 24,
   "id": "9db959a7",
   "metadata": {},
   "outputs": [
    {
     "ename": "IndentationError",
     "evalue": "expected an indented block (3432643794.py, line 4)",
     "output_type": "error",
     "traceback": [
      "\u001b[1;36m  File \u001b[1;32m\"C:\\Users\\User\\AppData\\Local\\Temp\\ipykernel_7260\\3432643794.py\"\u001b[1;36m, line \u001b[1;32m4\u001b[0m\n\u001b[1;33m    letter = fruit[index]\u001b[0m\n\u001b[1;37m    ^\u001b[0m\n\u001b[1;31mIndentationError\u001b[0m\u001b[1;31m:\u001b[0m expected an indented block\n"
     ]
    }
   ],
   "source": [
    "fruit = 'banana'\n",
    "index = 0\n",
    "while index < len(fruit): \n",
    "letter = fruit[index]\n",
    "print(index, letter)\n",
    "index = index + "
   ]
  },
  {
   "cell_type": "code",
   "execution_count": 25,
   "id": "d13d55ab",
   "metadata": {},
   "outputs": [
    {
     "name": "stdout",
     "output_type": "stream",
     "text": [
      "0 b\n",
      "1 a\n",
      "2 n\n",
      "3 a\n",
      "4 n\n",
      "5 a\n"
     ]
    }
   ],
   "source": [
    "fruit='banana'\n",
    "index=0\n",
    "while index <len(fruit):\n",
    "    letter=fruit[index]\n",
    "    print(index, letter)\n",
    "    index=index+1"
   ]
  },
  {
   "cell_type": "code",
   "execution_count": 26,
   "id": "296b1630",
   "metadata": {},
   "outputs": [
    {
     "name": "stdout",
     "output_type": "stream",
     "text": [
      "a\n",
      "p\n",
      "p\n",
      "l\n",
      "e\n"
     ]
    }
   ],
   "source": [
    "fruit='apple'\n",
    "for x in fruit:\n",
    "    print(x)"
   ]
  },
  {
   "cell_type": "markdown",
   "id": "ed1c0c76",
   "metadata": {},
   "source": [
    "# slicing"
   ]
  },
  {
   "cell_type": "code",
   "execution_count": 28,
   "id": "163061a2",
   "metadata": {},
   "outputs": [
    {
     "name": "stdout",
     "output_type": "stream",
     "text": [
      "mynameis sadia\n"
     ]
    }
   ],
   "source": [
    "s='mynameis sadia'\n",
    "print(s[:])"
   ]
  },
  {
   "cell_type": "code",
   "execution_count": 30,
   "id": "5141d936",
   "metadata": {},
   "outputs": [
    {
     "name": "stdout",
     "output_type": "stream",
     "text": [
      "nameis sadia\n"
     ]
    }
   ],
   "source": [
    "s='mynameis sadia'\n",
    "print(s[2:])"
   ]
  },
  {
   "cell_type": "markdown",
   "id": "3574a468",
   "metadata": {},
   "source": [
    "# Using in as a Logical Operator\n",
    "- The in keyword can also be \n",
    "  used to check to see if one \n",
    "  string is “in” another string\n",
    "- The in expression is a \n",
    "logical expression that \n",
    "returns True or False and \n",
    "can be used in an if \n",
    "statemen"
   ]
  },
  {
   "cell_type": "code",
   "execution_count": 32,
   "id": "e4c1903a",
   "metadata": {},
   "outputs": [
    {
     "data": {
      "text/plain": [
       "True"
      ]
     },
     "execution_count": 32,
     "metadata": {},
     "output_type": "execute_result"
    }
   ],
   "source": [
    "room='bed'\n",
    "'e' in room"
   ]
  },
  {
   "cell_type": "code",
   "execution_count": 33,
   "id": "408fd2b9",
   "metadata": {},
   "outputs": [
    {
     "name": "stdout",
     "output_type": "stream",
     "text": [
      "yess found it\n"
     ]
    }
   ],
   "source": [
    "if 'd' in room:\n",
    "    print(\"yess found it\")"
   ]
  },
  {
   "cell_type": "markdown",
   "id": "3ed0f2b9",
   "metadata": {},
   "source": [
    "# string comparison"
   ]
  },
  {
   "cell_type": "code",
   "execution_count": 42,
   "id": "a1bd5812",
   "metadata": {},
   "outputs": [
    {
     "name": "stdout",
     "output_type": "stream",
     "text": [
      "enter your wordapple\n",
      "apple\n",
      "Your word,apple, comes before banana.\n"
     ]
    }
   ],
   "source": [
    "word=input('enter your word')\n",
    "print(word)\n",
    "if word == 'banana':\n",
    "    print('All right, bananas.')\n",
    "if word < 'banana':\n",
    "    print('Your word,' + word + ', comes before banana.')\n",
    "elif word > 'banana':\n",
    "    print('Your word,' + word + ', comes after banana.')\n",
    "else:\n",
    "    print('All right, bananas.')"
   ]
  },
  {
   "cell_type": "markdown",
   "id": "e4bfbc1e",
   "metadata": {},
   "source": [
    "# String Library\n",
    "- Python has a number of string String Library\n",
    "functions which are in the\n",
    "string library\n",
    "-  These functions are already \n",
    "built into every string - we \n",
    "invoke them by appending the \n",
    "function to the string variable\n",
    "-  These functions do not modify \n",
    "the original string, instead they \n",
    "return a new string that has \n",
    "been altere"
   ]
  },
  {
   "cell_type": "code",
   "execution_count": 44,
   "id": "43dd3c11",
   "metadata": {},
   "outputs": [
    {
     "name": "stdout",
     "output_type": "stream",
     "text": [
      "hellow world\n"
     ]
    }
   ],
   "source": [
    "zip=\"Hellow World\"\n",
    "l=zip.lower()\n",
    "print(l)"
   ]
  },
  {
   "cell_type": "code",
   "execution_count": 45,
   "id": "83ad2ebd",
   "metadata": {},
   "outputs": [
    {
     "name": "stdout",
     "output_type": "stream",
     "text": [
      "HELLOW WORLD\n"
     ]
    }
   ],
   "source": [
    "zip=\"Hellow World\"\n",
    "l=zip.upper()\n",
    "print(l)"
   ]
  },
  {
   "cell_type": "code",
   "execution_count": 46,
   "id": "fbdc98ab",
   "metadata": {},
   "outputs": [
    {
     "data": {
      "text/plain": [
       "['__add__',\n",
       " '__class__',\n",
       " '__contains__',\n",
       " '__delattr__',\n",
       " '__dir__',\n",
       " '__doc__',\n",
       " '__eq__',\n",
       " '__format__',\n",
       " '__ge__',\n",
       " '__getattribute__',\n",
       " '__getitem__',\n",
       " '__getnewargs__',\n",
       " '__gt__',\n",
       " '__hash__',\n",
       " '__init__',\n",
       " '__init_subclass__',\n",
       " '__iter__',\n",
       " '__le__',\n",
       " '__len__',\n",
       " '__lt__',\n",
       " '__mod__',\n",
       " '__mul__',\n",
       " '__ne__',\n",
       " '__new__',\n",
       " '__reduce__',\n",
       " '__reduce_ex__',\n",
       " '__repr__',\n",
       " '__rmod__',\n",
       " '__rmul__',\n",
       " '__setattr__',\n",
       " '__sizeof__',\n",
       " '__str__',\n",
       " '__subclasshook__',\n",
       " 'capitalize',\n",
       " 'casefold',\n",
       " 'center',\n",
       " 'count',\n",
       " 'encode',\n",
       " 'endswith',\n",
       " 'expandtabs',\n",
       " 'find',\n",
       " 'format',\n",
       " 'format_map',\n",
       " 'index',\n",
       " 'isalnum',\n",
       " 'isalpha',\n",
       " 'isascii',\n",
       " 'isdecimal',\n",
       " 'isdigit',\n",
       " 'isidentifier',\n",
       " 'islower',\n",
       " 'isnumeric',\n",
       " 'isprintable',\n",
       " 'isspace',\n",
       " 'istitle',\n",
       " 'isupper',\n",
       " 'join',\n",
       " 'ljust',\n",
       " 'lower',\n",
       " 'lstrip',\n",
       " 'maketrans',\n",
       " 'partition',\n",
       " 'removeprefix',\n",
       " 'removesuffix',\n",
       " 'replace',\n",
       " 'rfind',\n",
       " 'rindex',\n",
       " 'rjust',\n",
       " 'rpartition',\n",
       " 'rsplit',\n",
       " 'rstrip',\n",
       " 'split',\n",
       " 'splitlines',\n",
       " 'startswith',\n",
       " 'strip',\n",
       " 'swapcase',\n",
       " 'title',\n",
       " 'translate',\n",
       " 'upper',\n",
       " 'zfill']"
      ]
     },
     "execution_count": 46,
     "metadata": {},
     "output_type": "execute_result"
    }
   ],
   "source": [
    "dir(zip)"
   ]
  },
  {
   "cell_type": "code",
   "execution_count": 48,
   "id": "722152cc",
   "metadata": {},
   "outputs": [
    {
     "name": "stdout",
     "output_type": "stream",
     "text": [
      "na\n"
     ]
    }
   ],
   "source": [
    "fruit='bananaaa'\n",
    "print(fruit[2:4])"
   ]
  },
  {
   "cell_type": "markdown",
   "id": "d65afbb3",
   "metadata": {},
   "source": [
    "# Search and Replace\n",
    "- The replace() function \n",
    "is like a “search and \n",
    "replace” operation in a \n",
    "word processor\n",
    "- It replaces all \n",
    "occurrences of the \n",
    "search string with the \n",
    "replacement string"
   ]
  },
  {
   "cell_type": "code",
   "execution_count": 50,
   "id": "11b739f2",
   "metadata": {},
   "outputs": [
    {
     "name": "stdout",
     "output_type": "stream",
     "text": [
      "my name is sadia\n"
     ]
    }
   ],
   "source": [
    "greet='my name is maria'\n",
    "hy=greet.replace('maria', 'sadia')\n",
    "print(hy)"
   ]
  },
  {
   "cell_type": "code",
   "execution_count": 51,
   "id": "c7ff2c77",
   "metadata": {},
   "outputs": [
    {
     "name": "stdout",
     "output_type": "stream",
     "text": [
      "my name is sadia abdullah my name is maria\n"
     ]
    }
   ],
   "source": [
    "name=greet.replace('maria','sadia abdullah')\n",
    "print(name,greet)"
   ]
  },
  {
   "cell_type": "markdown",
   "id": "f2e077bf",
   "metadata": {},
   "source": [
    "# Stripping Whitespace\n",
    "- Sometimes we want to take \n",
    "a string and remove \n",
    "whitespace at the beginning \n",
    "and/or end\n",
    "-  lstrip() and rstrip() remove \n",
    "whitespace at the left or right\n",
    "-  strip() removes both \n",
    "beginning and ending \n",
    "whitespac"
   ]
  },
  {
   "cell_type": "code",
   "execution_count": 54,
   "id": "45f8852d",
   "metadata": {},
   "outputs": [
    {
     "name": "stdout",
     "output_type": "stream",
     "text": [
      "hellow world \n",
      "     hellow world\n",
      "hellow world\n"
     ]
    }
   ],
   "source": [
    "greet='     hellow world '\n",
    "zip=greet.lstrip()\n",
    "d=greet.rstrip()\n",
    "y=greet.strip()\n",
    "print(zip)\n",
    "print(d)\n",
    "print(y)"
   ]
  },
  {
   "cell_type": "markdown",
   "id": "4fa0a855",
   "metadata": {},
   "source": [
    "# Prefixes"
   ]
  },
  {
   "cell_type": "code",
   "execution_count": 55,
   "id": "55ccab10",
   "metadata": {},
   "outputs": [
    {
     "name": "stdout",
     "output_type": "stream",
     "text": [
      "1234\n"
     ]
    }
   ],
   "source": [
    "print('1234')"
   ]
  },
  {
   "cell_type": "code",
   "execution_count": 58,
   "id": "b56d595e",
   "metadata": {},
   "outputs": [
    {
     "name": "stdout",
     "output_type": "stream",
     "text": [
      "True\n"
     ]
    }
   ],
   "source": [
    "line='please have a nice day'\n",
    "p=line.startswith('please')\n",
    "print(p)"
   ]
  },
  {
   "cell_type": "markdown",
   "id": "6c2c5b52",
   "metadata": {},
   "source": [
    "# parsing and extracting\n"
   ]
  },
  {
   "cell_type": "code",
   "execution_count": 69,
   "id": "96cf3993",
   "metadata": {},
   "outputs": [
    {
     "name": "stdout",
     "output_type": "stream",
     "text": [
      "21\n"
     ]
    }
   ],
   "source": [
    "data='From stephen.marquard@uct.ac.za Sat Jan 5 09:14:16 2008'   \n",
    "g=data.find('@')\n",
    "print(g)"
   ]
  },
  {
   "cell_type": "code",
   "execution_count": 71,
   "id": "3034a36e",
   "metadata": {},
   "outputs": [
    {
     "name": "stdout",
     "output_type": "stream",
     "text": [
      "31\n"
     ]
    }
   ],
   "source": [
    "sp=data.find(' ',g)\n",
    "print(sp)"
   ]
  },
  {
   "cell_type": "code",
   "execution_count": 75,
   "id": "8d90426f",
   "metadata": {},
   "outputs": [
    {
     "name": "stdout",
     "output_type": "stream",
     "text": [
      "a Sa\n"
     ]
    }
   ],
   "source": [
    "host=data[sp-1:-g]\n",
    "print(host)"
   ]
  },
  {
   "cell_type": "code",
   "execution_count": 72,
   "id": "5005e377",
   "metadata": {},
   "outputs": [
    {
     "name": "stdout",
     "output_type": "stream",
     "text": [
      "uct.ac.za\n"
     ]
    }
   ],
   "source": [
    "host=data[g+1:sp]\n",
    "print(host)"
   ]
  }
 ],
 "metadata": {
  "kernelspec": {
   "display_name": "Python 3 (ipykernel)",
   "language": "python",
   "name": "python3"
  },
  "language_info": {
   "codemirror_mode": {
    "name": "ipython",
    "version": 3
   },
   "file_extension": ".py",
   "mimetype": "text/x-python",
   "name": "python",
   "nbconvert_exporter": "python",
   "pygments_lexer": "ipython3",
   "version": "3.9.13"
  }
 },
 "nbformat": 4,
 "nbformat_minor": 5
}
