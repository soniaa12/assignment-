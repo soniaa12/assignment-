{
 "cells": [
  {
   "cell_type": "markdown",
   "id": "93e0152b",
   "metadata": {},
   "source": [
    "# object oriemted programmimg using Python\n",
    "Object Oriented Programming is a way of computer programming using the idea of “objects” to represents data and methods.\n",
    "It is also, an approach used for creating neat and reusable code instead of a redundant one."
   ]
  },
  {
   "cell_type": "markdown",
   "id": "869f2db5",
   "metadata": {},
   "source": [
    "# What are Classes and Objects?\n",
    "- A class is a collection of objects or you can say it is a\n",
    "blueprint of objects defining the common attributes and\n",
    "behavior. Now the question arises, how do you do that?\n",
    "Class is defined under a “Class” Keyword."
   ]
  },
  {
   "cell_type": "markdown",
   "id": "cd79ea17",
   "metadata": {},
   "source": [
    "# Creating an Object and Class in python:\n",
    "- Example:"
   ]
  },
  {
   "cell_type": "code",
   "execution_count": 3,
   "id": "bde8512a",
   "metadata": {},
   "outputs": [
    {
     "name": "stdout",
     "output_type": "stream",
     "text": [
      "{'age': 25, 'salary': 2000000, 'id': 23}\n",
      "{'age': 24, 'salary': 3000000, 'id': 45}\n"
     ]
    }
   ],
   "source": [
    "class employe:\n",
    "    def __init__(self,ag,sal,id):\n",
    "        self.age=ag\n",
    "        self.salary=sal\n",
    "        self.id=id\n",
    "emp1=employe(25,2000000,23)\n",
    "emp2=employe(24,3000000,45)\n",
    "print(emp1.__dict__)\n",
    "print(emp2.__dict__)"
   ]
  },
  {
   "cell_type": "markdown",
   "id": "73aa20b4",
   "metadata": {},
   "source": [
    "# defining a class"
   ]
  },
  {
   "cell_type": "code",
   "execution_count": 4,
   "id": "b30312f9",
   "metadata": {},
   "outputs": [],
   "source": [
    "class apple:\n",
    "    pass"
   ]
  },
  {
   "cell_type": "code",
   "execution_count": 7,
   "id": "f02908e8",
   "metadata": {},
   "outputs": [
    {
     "name": "stdout",
     "output_type": "stream",
     "text": [
      "red\n",
      "sweet\n"
     ]
    }
   ],
   "source": [
    "class apple:\n",
    "    color=\"\"\n",
    "    flavor=\"\"\n",
    "jonagold=apple()\n",
    "jonagold.color=\"red\"\n",
    "jonagold.flavor=\"sweet\"\n",
    "print(jonagold.color)\n",
    "print(jonagold.flavor)"
   ]
  },
  {
   "cell_type": "code",
   "execution_count": 8,
   "id": "de2b28a2",
   "metadata": {},
   "outputs": [
    {
     "name": "stdout",
     "output_type": "stream",
     "text": [
      "RED\n"
     ]
    }
   ],
   "source": [
    "print(jonagold.color.upper())"
   ]
  },
  {
   "cell_type": "code",
   "execution_count": 9,
   "id": "0aff2a93",
   "metadata": {},
   "outputs": [
    {
     "name": "stdout",
     "output_type": "stream",
     "text": [
      "SOFT\n",
      "yellow\n"
     ]
    }
   ],
   "source": [
    "golden=apple()\n",
    "golden.color=\"yellow\"\n",
    "golden.flavor=\"soft\"\n",
    "print(golden.flavor.upper())\n",
    "print(golden.color)"
   ]
  },
  {
   "cell_type": "markdown",
   "id": "3621194a",
   "metadata": {},
   "source": [
    "# instance method\n",
    "# method"
   ]
  },
  {
   "cell_type": "code",
   "execution_count": 15,
   "id": "982d2500",
   "metadata": {},
   "outputs": [
    {
     "name": "stdout",
     "output_type": "stream",
     "text": [
      "meow meow meown\n"
     ]
    }
   ],
   "source": [
    "class cat:\n",
    "    def speak(self):\n",
    "        print(\"meow meow meown\")\n",
    "mycat=cat()\n",
    "mycat.speak()\n"
   ]
  },
  {
   "cell_type": "code",
   "execution_count": 18,
   "id": "a5531e42",
   "metadata": {},
   "outputs": [
    {
     "name": "stdout",
     "output_type": "stream",
     "text": [
      "Meow i am bela!\n"
     ]
    }
   ],
   "source": [
    "class cat:\n",
    "    name=\"\"\n",
    "    def speak(self):\n",
    "        print(\"Meow i am {}!\".format(self.name))\n",
    "myluna=cat()\n",
    "myluna.name=\"bela\"\n",
    "myluna.speak()"
   ]
  },
  {
   "cell_type": "markdown",
   "id": "b16ddbbf",
   "metadata": {},
   "source": [
    "# special methods:\n"
   ]
  },
  {
   "cell_type": "code",
   "execution_count": 22,
   "id": "cf7243a5",
   "metadata": {},
   "outputs": [
    {
     "name": "stdout",
     "output_type": "stream",
     "text": [
      "red\n"
     ]
    }
   ],
   "source": [
    "class apple:\n",
    "    def __init__(self,color,flavor):\n",
    "        self.color=color\n",
    "        self.flavor=flavor\n",
    "jonagold=apple(\"red\",\"sweet\")\n",
    "print(jonagold.color)"
   ]
  },
  {
   "cell_type": "code",
   "execution_count": 20,
   "id": "e705eaef",
   "metadata": {},
   "outputs": [
    {
     "name": "stdout",
     "output_type": "stream",
     "text": [
      "SWEET\n"
     ]
    }
   ],
   "source": [
    "print(jonagold.flavor.upper())"
   ]
  },
  {
   "cell_type": "code",
   "execution_count": 21,
   "id": "d145233b",
   "metadata": {},
   "outputs": [
    {
     "name": "stdout",
     "output_type": "stream",
     "text": [
      "<__main__.apple object at 0x00000274A40BD790>\n"
     ]
    }
   ],
   "source": [
    "print(jonagold)"
   ]
  },
  {
   "cell_type": "markdown",
   "id": "3bd74df2",
   "metadata": {},
   "source": [
    "# str method"
   ]
  },
  {
   "cell_type": "code",
   "execution_count": 24,
   "id": "f473f471",
   "metadata": {},
   "outputs": [
    {
     "name": "stdout",
     "output_type": "stream",
     "text": [
      "Apple color is red and its flavor is sweet \n"
     ]
    }
   ],
   "source": [
    "class apple:\n",
    "    def __init__(self,color,flavor):\n",
    "        self.color=color\n",
    "        self.flavor=flavor\n",
    "    def __str__(self):\n",
    "        return \"Apple color is {} and its flavor is {} \".format(self.color,self.flavor)\n",
    "jonagold=apple(\"red\",\"sweet\")\n",
    "print(jonagold)"
   ]
  },
  {
   "cell_type": "markdown",
   "id": "c404139d",
   "metadata": {},
   "source": [
    "# documenting functions,classes and methods"
   ]
  },
  {
   "cell_type": "markdown",
   "id": "36af36b0",
   "metadata": {},
   "source": [
    "# docstring\n",
    "- a brief method that explain what something does?\n"
   ]
  },
  {
   "cell_type": "markdown",
   "id": "1a2dbcb1",
   "metadata": {},
   "source": [
    "# documenting with Docstring\n",
    "### The python help() function helpfull for easily pulling up documentation for classes and methods"
   ]
  },
  {
   "cell_type": "code",
   "execution_count": 25,
   "id": "58e9b5bc",
   "metadata": {},
   "outputs": [
    {
     "name": "stdout",
     "output_type": "stream",
     "text": [
      "Apple color is red and its flavor is sweet \n",
      "Help on class apple in module __main__:\n",
      "\n",
      "class apple(builtins.object)\n",
      " |  apple(color, flavor)\n",
      " |  \n",
      " |  Methods defined here:\n",
      " |  \n",
      " |  __init__(self, color, flavor)\n",
      " |      Initialize self.  See help(type(self)) for accurate signature.\n",
      " |  \n",
      " |  __str__(self)\n",
      " |      Return str(self).\n",
      " |  \n",
      " |  ----------------------------------------------------------------------\n",
      " |  Data descriptors defined here:\n",
      " |  \n",
      " |  __dict__\n",
      " |      dictionary for instance variables (if defined)\n",
      " |  \n",
      " |  __weakref__\n",
      " |      list of weak references to the object (if defined)\n",
      "\n"
     ]
    }
   ],
   "source": [
    "class apple:\n",
    "    def __init__(self,color,flavor):\n",
    "        self.color=color\n",
    "        self.flavor=flavor\n",
    "    def __str__(self):\n",
    "        return \"Apple color is {} and its flavor is {} \".format(self.color,self.flavor)\n",
    "jonagold=apple(\"red\",\"sweet\")\n",
    "print(jonagold)\n",
    "help(apple)"
   ]
  },
  {
   "cell_type": "code",
   "execution_count": 26,
   "id": "e3b7c7fc",
   "metadata": {},
   "outputs": [],
   "source": [
    "def to_second(hours,minuts,seconds):\n",
    "    return \"\"\"return the amount of seconds in the given hours,minuts and seconds\"\"\"\n",
    "    return hours*3600+minuts*60+seconds"
   ]
  },
  {
   "cell_type": "code",
   "execution_count": 27,
   "id": "61faa580",
   "metadata": {},
   "outputs": [
    {
     "name": "stdout",
     "output_type": "stream",
     "text": [
      "Help on function to_second in module __main__:\n",
      "\n",
      "to_second(hours, minuts, seconds)\n",
      "\n"
     ]
    }
   ],
   "source": [
    "help(to_second)"
   ]
  },
  {
   "cell_type": "code",
   "execution_count": 31,
   "id": "6cad02b9",
   "metadata": {},
   "outputs": [
    {
     "name": "stdout",
     "output_type": "stream",
     "text": [
      "Help on class Apple in module __main__:\n",
      "\n",
      "class Apple(builtins.object)\n",
      " |  Apple(c, f)\n",
      " |  \n",
      " |  Methods defined here:\n",
      " |  \n",
      " |  __init__(self, c, f)\n",
      " |      Initialize self.  See help(type(self)) for accurate signature.\n",
      " |  \n",
      " |  __str__(self)\n",
      " |      return the values of color and flavor\n",
      " |  \n",
      " |  ----------------------------------------------------------------------\n",
      " |  Data descriptors defined here:\n",
      " |  \n",
      " |  __dict__\n",
      " |      dictionary for instance variables (if defined)\n",
      " |  \n",
      " |  __weakref__\n",
      " |      list of weak references to the object (if defined)\n",
      "\n"
     ]
    }
   ],
   "source": [
    "class Apple:\n",
    "    def __init__(self, c, f):\n",
    "        self.color=c\n",
    "        self.flavor=f\n",
    "    \n",
    "    def __str__(self):\n",
    "        \"\"\"return the values of color and flavor\"\"\"\n",
    "        return \"This is apple {} and this color is {}\". format(self.color, self.flavor)\n",
    "help(Apple)"
   ]
  },
  {
   "cell_type": "code",
   "execution_count": 32,
   "id": "45dbf5b4",
   "metadata": {},
   "outputs": [
    {
     "name": "stdout",
     "output_type": "stream",
     "text": [
      "Help on class Person in module __main__:\n",
      "\n",
      "class Person(builtins.object)\n",
      " |  Person(name)\n",
      " |  \n",
      " |  Methods defined here:\n",
      " |  \n",
      " |  __init__(self, name)\n",
      " |      Initialize self.  See help(type(self)) for accurate signature.\n",
      " |  \n",
      " |  greeting(self)\n",
      " |      This return the name.\n",
      " |  \n",
      " |  ----------------------------------------------------------------------\n",
      " |  Data descriptors defined here:\n",
      " |  \n",
      " |  __dict__\n",
      " |      dictionary for instance variables (if defined)\n",
      " |  \n",
      " |  __weakref__\n",
      " |      list of weak references to the object (if defined)\n",
      "\n"
     ]
    }
   ],
   "source": [
    "class Person:\n",
    "    def __init__ (self, name):\n",
    "        self.name=name\n",
    "    def greeting(self):\n",
    "        \"\"\"This return the name.\"\"\"\n",
    "        print(\"Hello my name is {name}.\".format(name=self.name))\n",
    "help(Person)"
   ]
  },
  {
   "cell_type": "markdown",
   "id": "de4efae6",
   "metadata": {},
   "source": [
    "# inheritence"
   ]
  },
  {
   "cell_type": "code",
   "execution_count": 33,
   "id": "8e73c9b5",
   "metadata": {},
   "outputs": [
    {
     "name": "stdout",
     "output_type": "stream",
     "text": [
      "2000\n"
     ]
    }
   ],
   "source": [
    "class emp:\n",
    "    bonus=2000\n",
    "    def display(self):\n",
    "        print(\"this is the method of emp class\")\n",
    "class manager(emp):\n",
    "    bonus1=3000\n",
    "    def show(self):\n",
    "        print(\"this is the method of manager class\")\n",
    "e1=emp()\n",
    "m1=manager()\n",
    "print(e1.bonus)"
   ]
  },
  {
   "cell_type": "code",
   "execution_count": 34,
   "id": "0e0f53c3",
   "metadata": {},
   "outputs": [
    {
     "name": "stdout",
     "output_type": "stream",
     "text": [
      "red\n",
      "sweet\n"
     ]
    }
   ],
   "source": [
    "class Fruit:\n",
    "    def __init__(self, c, f):\n",
    "        self.color=c\n",
    "        self.flavor=f\n",
    "\n",
    "class Apple(Fruit):\n",
    "    pass\n",
    "\n",
    "class Grape(Apple):\n",
    "    pass\n",
    "\n",
    "a=Apple(\"red\", \"soft\")\n",
    "g=Grape(\"pink\", \"sweet\")\n",
    "\n",
    "print(a.color)\n",
    "print(g.flavor)"
   ]
  },
  {
   "cell_type": "code",
   "execution_count": 35,
   "id": "836eefea",
   "metadata": {},
   "outputs": [
    {
     "name": "stdout",
     "output_type": "stream",
     "text": [
      "Meow I'm Luna! Meow.\n",
      "Moooo I'm Milky! Moooo.\n"
     ]
    }
   ],
   "source": [
    "class Animal:\n",
    "    sound=\"\"\n",
    "    def __init__(self, name):\n",
    "        self.name=name\n",
    "    def speak(self):\n",
    "        print(\"{sound} I'm {name}! {sound}.\".format(sound=self.sound, name=self.name))\n",
    "\n",
    "class Cat(Animal):\n",
    "    sound=\"Meow\"\n",
    "mycat=Cat(\"Luna\")\n",
    "mycat.speak()\n",
    "\n",
    "class Cow(Animal):\n",
    "    sound=\"Moooo\"\n",
    "mycow=Cow(\"Milky\")\n",
    "mycow.speak()"
   ]
  },
  {
   "cell_type": "code",
   "execution_count": 36,
   "id": "2232a62b",
   "metadata": {},
   "outputs": [
    {
     "name": "stdout",
     "output_type": "stream",
     "text": [
      "This is Cotton made of J..\n"
     ]
    }
   ],
   "source": [
    "#Question\n",
    "\n",
    "class Clothing:\n",
    "    material=\"\"\n",
    "    def __init__(self, name):\n",
    "        self.name=name\n",
    "    def checkmate(self):\n",
    "        print(\"This is {} made of {}.\".format(self.material, self.name))\n",
    "        \n",
    "class Shirt(Clothing):\n",
    "    material=\"Cotton\"\n",
    "myshirt=Shirt(\"J.\")\n",
    "myshirt.checkmate()"
   ]
  },
  {
   "cell_type": "markdown",
   "id": "1a803184",
   "metadata": {},
   "source": [
    "# object composition"
   ]
  },
  {
   "cell_type": "markdown",
   "id": "969fbeea",
   "metadata": {},
   "source": [
    "- you have a situation where two classes are related but there is no inheretance going on\n",
    "- this id refferd to a composition\n"
   ]
  },
  {
   "cell_type": "code",
   "execution_count": 37,
   "id": "4f61f779",
   "metadata": {},
   "outputs": [],
   "source": [
    "class Repository:\n",
    "    def __init__(self):\n",
    "        self.packages={}\n",
    "    def add_packages(self, packages):\n",
    "        self.packages[packages.name]=package\n",
    "    def total_size(self):\n",
    "        result=0\n",
    "        for package in self.packages.values():\n",
    "            result+=package.size\n",
    "        return result"
   ]
  },
  {
   "cell_type": "code",
   "execution_count": null,
   "id": "11847a16",
   "metadata": {},
   "outputs": [],
   "source": []
  }
 ],
 "metadata": {
  "kernelspec": {
   "display_name": "Python 3 (ipykernel)",
   "language": "python",
   "name": "python3"
  },
  "language_info": {
   "codemirror_mode": {
    "name": "ipython",
    "version": 3
   },
   "file_extension": ".py",
   "mimetype": "text/x-python",
   "name": "python",
   "nbconvert_exporter": "python",
   "pygments_lexer": "ipython3",
   "version": "3.9.13"
  }
 },
 "nbformat": 4,
 "nbformat_minor": 5
}
