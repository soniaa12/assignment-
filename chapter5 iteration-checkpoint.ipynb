{
 "cells": [
  {
   "cell_type": "markdown",
   "id": "2baa95f2",
   "metadata": {},
   "source": [
    "# find lasgest value"
   ]
  },
  {
   "cell_type": "code",
   "execution_count": 1,
   "id": "d139f62d",
   "metadata": {},
   "outputs": [
    {
     "name": "stdout",
     "output_type": "stream",
     "text": [
      "1\n",
      "4 4\n",
      "6 6\n",
      "78 78\n",
      "78 6\n",
      "78 54\n",
      "321 321\n",
      "321 5\n",
      "321 6\n"
     ]
    }
   ],
   "source": [
    "num=1\n",
    "print(num)\n",
    "for i in[4,6,78,6,54,321,5,6]:\n",
    "    if i > num:\n",
    "        num = i\n",
    "    print(num,i)"
   ]
  },
  {
   "cell_type": "code",
   "execution_count": 2,
   "id": "e5d9a16d",
   "metadata": {},
   "outputs": [
    {
     "name": "stdout",
     "output_type": "stream",
     "text": [
      "321\n"
     ]
    }
   ],
   "source": [
    "print(num)"
   ]
  },
  {
   "cell_type": "markdown",
   "id": "0dcc9057",
   "metadata": {},
   "source": [
    "# average in loops"
   ]
  },
  {
   "cell_type": "code",
   "execution_count": null,
   "id": "9d6b4f8c",
   "metadata": {},
   "outputs": [],
   "source": []
  }
 ],
 "metadata": {
  "kernelspec": {
   "display_name": "Python 3 (ipykernel)",
   "language": "python",
   "name": "python3"
  },
  "language_info": {
   "codemirror_mode": {
    "name": "ipython",
    "version": 3
   },
   "file_extension": ".py",
   "mimetype": "text/x-python",
   "name": "python",
   "nbconvert_exporter": "python",
   "pygments_lexer": "ipython3",
   "version": "3.9.13"
  }
 },
 "nbformat": 4,
 "nbformat_minor": 5
}
