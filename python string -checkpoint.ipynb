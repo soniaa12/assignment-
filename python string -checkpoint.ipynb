{
 "cells": [
  {
   "cell_type": "markdown",
   "id": "e010af17",
   "metadata": {},
   "source": [
    "# Strings\n",
    "- Strings in python are surrounded by either single quotation marks, or double quotation marks.\n",
    "\n",
    "- 'hello' is the same as \"hello\".\n",
    "\n",
    "- You can display a string literal with the print() function:"
   ]
  },
  {
   "cell_type": "code",
   "execution_count": 1,
   "id": "9f4fb3b1",
   "metadata": {},
   "outputs": [
    {
     "name": "stdout",
     "output_type": "stream",
     "text": [
      "Hello\n",
      "Hello\n",
      "Hello\n"
     ]
    }
   ],
   "source": [
    "print(\"Hello\")\n",
    "print('Hello')\n",
    "a = \"Hello\"\n",
    "print(a)"
   ]
  },
  {
   "cell_type": "markdown",
   "id": "5cc35773",
   "metadata": {},
   "source": [
    "# Strings are Arrays\n",
    "- Like many other popular programming languages, strings in Python are arrays of bytes representing unicode characters.\n",
    "\n",
    "- However, Python does not have a character data type, a single character is simply a string with a length of 1.\n",
    "\n",
    "- Square brackets can be used to access elements of the string.\n",
    "\n",
    "## Example\n",
    "- Get the character at position 1 (remember that the first character has the position 0):"
   ]
  },
  {
   "cell_type": "code",
   "execution_count": 2,
   "id": "decb009b",
   "metadata": {},
   "outputs": [
    {
     "name": "stdout",
     "output_type": "stream",
     "text": [
      " \n"
     ]
    }
   ],
   "source": [
    "access=\"hello sadia\"\n",
    "print(access[5])"
   ]
  },
  {
   "cell_type": "code",
   "execution_count": 3,
   "id": "83bfb9f1",
   "metadata": {},
   "outputs": [
    {
     "name": "stdout",
     "output_type": "stream",
     "text": [
      "s\n"
     ]
    }
   ],
   "source": [
    "print(access[6])"
   ]
  },
  {
   "cell_type": "markdown",
   "id": "dfda84c3",
   "metadata": {},
   "source": [
    "# Looping Through a String\n",
    "- Since strings are arrays, we can loop through the characters in a string, with a for loop.\n",
    "\n",
    "## Example\n",
    "- Loop through the letters in the word \"banana\":"
   ]
  },
  {
   "cell_type": "code",
   "execution_count": 5,
   "id": "9e2b9537",
   "metadata": {},
   "outputs": [
    {
     "name": "stdout",
     "output_type": "stream",
     "text": [
      "b\n",
      "a\n",
      "n\n",
      "a\n",
      "n\n",
      "a\n"
     ]
    }
   ],
   "source": [
    "for i in 'banana':\n",
    "    print(i)"
   ]
  },
  {
   "cell_type": "code",
   "execution_count": 6,
   "id": "ba127d56",
   "metadata": {},
   "outputs": [
    {
     "name": "stdout",
     "output_type": "stream",
     "text": [
      "1\n"
     ]
    }
   ],
   "source": [
    "print(len(i))"
   ]
  },
  {
   "cell_type": "markdown",
   "id": "0c8c09d6",
   "metadata": {},
   "source": [
    "# Check String\n",
    "- To check if a certain phrase or character is present in a string, we can use the keyword in.\n",
    "\n",
    "## xample\n",
    "- Check if \"free\" is present in the following text:"
   ]
  },
  {
   "cell_type": "code",
   "execution_count": 12,
   "id": "9aa755ba",
   "metadata": {},
   "outputs": [
    {
     "name": "stdout",
     "output_type": "stream",
     "text": [
      "True\n"
     ]
    }
   ],
   "source": [
    "txt=\" the best way to clean the air is growing thw tree\"\n",
    "print('tree' in txt)"
   ]
  },
  {
   "cell_type": "code",
   "execution_count": 14,
   "id": "7937a86b",
   "metadata": {},
   "outputs": [],
   "source": [
    "if 'free' in txt:\n",
    "    print('yess,free is present')"
   ]
  },
  {
   "cell_type": "code",
   "execution_count": 15,
   "id": "62f4f613",
   "metadata": {},
   "outputs": [
    {
     "name": "stdout",
     "output_type": "stream",
     "text": [
      "yess,tree is present\n"
     ]
    }
   ],
   "source": [
    "if 'tree' in txt:\n",
    "    print('yess,tree is present')"
   ]
  },
  {
   "cell_type": "code",
   "execution_count": 16,
   "id": "a73d7182",
   "metadata": {},
   "outputs": [
    {
     "name": "stdout",
     "output_type": "stream",
     "text": [
      "no,free is not presence in txt \n"
     ]
    }
   ],
   "source": [
    "if 'free' in txt:\n",
    "    print('yessftree is present')\n",
    "else:\n",
    "    print('no,free is not presence in txt ')"
   ]
  },
  {
   "cell_type": "markdown",
   "id": "eadc61bb",
   "metadata": {},
   "source": [
    "# slicing"
   ]
  },
  {
   "cell_type": "code",
   "execution_count": 17,
   "id": "f972e395",
   "metadata": {},
   "outputs": [],
   "source": [
    "s=\" my name is sadia abdullah\""
   ]
  },
  {
   "cell_type": "code",
   "execution_count": 18,
   "id": "9657af36",
   "metadata": {},
   "outputs": [
    {
     "name": "stdout",
     "output_type": "stream",
     "text": [
      " my name is sadia abdullah\n"
     ]
    }
   ],
   "source": [
    "print(s)"
   ]
  },
  {
   "cell_type": "code",
   "execution_count": 20,
   "id": "e7690bbd",
   "metadata": {},
   "outputs": [
    {
     "name": "stdout",
     "output_type": "stream",
     "text": [
      " m\n"
     ]
    }
   ],
   "source": [
    "print(s[:2])"
   ]
  },
  {
   "cell_type": "code",
   "execution_count": 21,
   "id": "26a59506",
   "metadata": {},
   "outputs": [
    {
     "name": "stdout",
     "output_type": "stream",
     "text": [
      " my name is \n"
     ]
    }
   ],
   "source": [
    "print(s[:12])"
   ]
  },
  {
   "cell_type": "code",
   "execution_count": 22,
   "id": "52029a1f",
   "metadata": {},
   "outputs": [
    {
     "name": "stdout",
     "output_type": "stream",
     "text": [
      " my name is sadia abdullah\n"
     ]
    }
   ],
   "source": [
    "print(s[:])"
   ]
  },
  {
   "cell_type": "code",
   "execution_count": 23,
   "id": "31d490b3",
   "metadata": {},
   "outputs": [
    {
     "name": "stdout",
     "output_type": "stream",
     "text": [
      "me is sadia abdullah\n"
     ]
    }
   ],
   "source": [
    "print(s[6:])"
   ]
  },
  {
   "cell_type": "code",
   "execution_count": 25,
   "id": "7371c652",
   "metadata": {},
   "outputs": [
    {
     "name": "stdout",
     "output_type": "stream",
     "text": [
      "\n"
     ]
    }
   ],
   "source": [
    "print(s[-2:-8])"
   ]
  },
  {
   "cell_type": "code",
   "execution_count": 26,
   "id": "11240509",
   "metadata": {},
   "outputs": [
    {
     "name": "stdout",
     "output_type": "stream",
     "text": [
      "abdull\n"
     ]
    }
   ],
   "source": [
    "print(s[-8:-2])"
   ]
  },
  {
   "cell_type": "markdown",
   "id": "692b49cf",
   "metadata": {},
   "source": [
    "# modify string\n",
    "- Upper Case\n",
    "- lower case\n",
    "ExampleGet your own Python Server\n",
    "The upper() method returns the string in upper case:\n",
    "The lower() method returns the string in upper case:"
   ]
  },
  {
   "cell_type": "code",
   "execution_count": 27,
   "id": "03e03358",
   "metadata": {},
   "outputs": [
    {
     "name": "stdout",
     "output_type": "stream",
     "text": [
      "MY NAME IS SADIA\n"
     ]
    }
   ],
   "source": [
    "a='  my name is sadia   '\n",
    "print(a.upper())"
   ]
  },
  {
   "cell_type": "code",
   "execution_count": 30,
   "id": "4ee8b689",
   "metadata": {},
   "outputs": [
    {
     "name": "stdout",
     "output_type": "stream",
     "text": [
      "my name is sadia\n"
     ]
    }
   ],
   "source": [
    "print(a.lower())"
   ]
  },
  {
   "cell_type": "markdown",
   "id": "eaaa9b13",
   "metadata": {},
   "source": [
    "# remove white spaces"
   ]
  },
  {
   "cell_type": "code",
   "execution_count": 32,
   "id": "7a736d62",
   "metadata": {},
   "outputs": [
    {
     "name": "stdout",
     "output_type": "stream",
     "text": [
      "my name is sadia\n"
     ]
    }
   ],
   "source": [
    "print(a.strip())"
   ]
  },
  {
   "cell_type": "markdown",
   "id": "ed784f03",
   "metadata": {},
   "source": [
    "# Example\n",
    "- To add a space between them, add a \" \":"
   ]
  },
  {
   "cell_type": "code",
   "execution_count": 33,
   "id": "8dff4d6a",
   "metadata": {},
   "outputs": [
    {
     "name": "stdout",
     "output_type": "stream",
     "text": [
      "Hello World\n"
     ]
    }
   ],
   "source": [
    "a = \"Hello\"\n",
    "b = \"World\"\n",
    "c = a + \" \" + b\n",
    "print(c)"
   ]
  },
  {
   "cell_type": "code",
   "execution_count": 34,
   "id": "5b4cb121",
   "metadata": {},
   "outputs": [
    {
     "name": "stdout",
     "output_type": "stream",
     "text": [
      "HelloWorld\n"
     ]
    }
   ],
   "source": [
    "a = \"Hello\"\n",
    "b = \"World\"\n",
    "c = a + b\n",
    "print(c)"
   ]
  },
  {
   "cell_type": "code",
   "execution_count": null,
   "id": "7c627f53",
   "metadata": {},
   "outputs": [],
   "source": []
  }
 ],
 "metadata": {
  "kernelspec": {
   "display_name": "Python 3 (ipykernel)",
   "language": "python",
   "name": "python3"
  },
  "language_info": {
   "codemirror_mode": {
    "name": "ipython",
    "version": 3
   },
   "file_extension": ".py",
   "mimetype": "text/x-python",
   "name": "python",
   "nbconvert_exporter": "python",
   "pygments_lexer": "ipython3",
   "version": "3.9.13"
  }
 },
 "nbformat": 4,
 "nbformat_minor": 5
}
