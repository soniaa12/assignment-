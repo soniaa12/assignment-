{
 "cells": [
  {
   "cell_type": "markdown",
   "id": "1287272d",
   "metadata": {},
   "source": [
    "# Python Conditions and If statements\n",
    "- Python supports the usual logical conditions from mathematics:\n",
    "\n",
    "- Equals: a == b\n",
    "- Not Equals: a != b\n",
    "- Less than: a < b\n",
    "- Less than or equal to: a <= b\n",
    "- Greater than: a > b\n",
    "- Greater than or equal to: a >= b\n",
    "## These conditions can be used in several ways, most commonly in \"if statements\" and loops.\n",
    "\n",
    "- An \"if statement\" is written by using the if keyword."
   ]
  },
  {
   "cell_type": "code",
   "execution_count": 1,
   "id": "0f5e1074",
   "metadata": {},
   "outputs": [
    {
     "name": "stdout",
     "output_type": "stream",
     "text": [
      "b is smaller than a\n"
     ]
    }
   ],
   "source": [
    "a=300\n",
    "b=89\n",
    "if a>b:\n",
    "    print(\"b is smaller than a\")"
   ]
  },
  {
   "cell_type": "markdown",
   "id": "b829fe5f",
   "metadata": {},
   "source": [
    "# Indentation\n",
    "- Python relies on indentation (whitespace at the beginning of a line) to define scope in the code. Other programming languages often use curly-brackets for this purpose."
   ]
  },
  {
   "cell_type": "markdown",
   "id": "89f8de64",
   "metadata": {},
   "source": [
    "## Example\n",
    "If statement, without indentation (will raise an error):"
   ]
  },
  {
   "cell_type": "code",
   "execution_count": 2,
   "id": "b3df00b1",
   "metadata": {},
   "outputs": [
    {
     "ename": "IndentationError",
     "evalue": "expected an indented block (1443227691.py, line 4)",
     "output_type": "error",
     "traceback": [
      "\u001b[1;36m  File \u001b[1;32m\"C:\\Users\\User\\AppData\\Local\\Temp\\ipykernel_7840\\1443227691.py\"\u001b[1;36m, line \u001b[1;32m4\u001b[0m\n\u001b[1;33m    print(\"b is greater than a\") # you will get an error\u001b[0m\n\u001b[1;37m    ^\u001b[0m\n\u001b[1;31mIndentationError\u001b[0m\u001b[1;31m:\u001b[0m expected an indented block\n"
     ]
    }
   ],
   "source": [
    "a = 33\n",
    "b = 200\n",
    "if b > a:\n",
    "print(\"b is greater than a\") # you will get an error"
   ]
  },
  {
   "cell_type": "markdown",
   "id": "cbba4346",
   "metadata": {},
   "source": [
    "# Elif\n",
    "- The elif keyword is Python's way of saying \"if the previous conditions were not true, then try this condition\".\n",
    "\n",
    "## Example"
   ]
  },
  {
   "cell_type": "code",
   "execution_count": 3,
   "id": "f572143f",
   "metadata": {},
   "outputs": [
    {
     "name": "stdout",
     "output_type": "stream",
     "text": [
      "a and b are equal\n"
     ]
    }
   ],
   "source": [
    "a = 33\n",
    "b = 33\n",
    "if b > a:\n",
    "  print(\"b is greater than a\")\n",
    "elif a == b:\n",
    "  print(\"a and b are equal\")"
   ]
  },
  {
   "cell_type": "code",
   "execution_count": 4,
   "id": "224439ba",
   "metadata": {},
   "outputs": [
    {
     "name": "stdout",
     "output_type": "stream",
     "text": [
      "a and b are equal\n"
     ]
    }
   ],
   "source": [
    "a = 33\n",
    "b = 33\n",
    "if b > a:\n",
    "  print(\"b is greater than a\")\n",
    "elif a == b:\n",
    "  print(\"a and b are equal\")"
   ]
  },
  {
   "cell_type": "code",
   "execution_count": 5,
   "id": "c74a9f95",
   "metadata": {},
   "outputs": [
    {
     "name": "stdout",
     "output_type": "stream",
     "text": [
      "both are equal\n"
     ]
    }
   ],
   "source": [
    "a = 33\n",
    "b = 33\n",
    "if b > a:\n",
    "  print(\"b is greater than a\")\n",
    "elif a < b:\n",
    "  print(\"a and b are equal\")\n",
    "else:\n",
    "    print('both are equal')"
   ]
  },
  {
   "cell_type": "markdown",
   "id": "ce02542d",
   "metadata": {},
   "source": [
    "# Short Hand If, elif, else"
   ]
  },
  {
   "cell_type": "code",
   "execution_count": 6,
   "id": "b3041177",
   "metadata": {},
   "outputs": [
    {
     "name": "stdout",
     "output_type": "stream",
     "text": [
      "c is not equal to g\n"
     ]
    }
   ],
   "source": [
    "c=5\n",
    "g=6\n",
    "if c!=g: print('c is not equal to g')"
   ]
  },
  {
   "cell_type": "markdown",
   "id": "66a0b225",
   "metadata": {},
   "source": [
    "# Python Loops\n",
    "- Python has two primitive loop commands:\n",
    "\n",
    "- while loops\n",
    "- for loops"
   ]
  },
  {
   "cell_type": "markdown",
   "id": "20b33eb4",
   "metadata": {},
   "source": [
    "# The while Loop\n",
    "- With the while loop we can execute a set of statements as long as a condition is true.\n",
    "\n",
    "## Example\n",
    "- Get your own Python Server\n",
    "- Print i as long as i is less than 6:"
   ]
  },
  {
   "cell_type": "code",
   "execution_count": 7,
   "id": "1563ebd9",
   "metadata": {},
   "outputs": [
    {
     "name": "stdout",
     "output_type": "stream",
     "text": [
      "1\n",
      "2\n",
      "3\n",
      "4\n",
      "5\n",
      "6\n",
      "7\n",
      "8\n",
      "9\n",
      "10\n",
      "11\n",
      "12\n"
     ]
    }
   ],
   "source": [
    "i=1\n",
    "while i<=12:\n",
    "    print(i)\n",
    "    i += 1"
   ]
  },
  {
   "cell_type": "code",
   "execution_count": 8,
   "id": "bd638495",
   "metadata": {},
   "outputs": [
    {
     "name": "stdout",
     "output_type": "stream",
     "text": [
      "2\n",
      "3\n"
     ]
    }
   ],
   "source": [
    "u=2\n",
    "while u<7:\n",
    "    print(u)\n",
    "    if u ==3:\n",
    "        break\n",
    "    u+=1"
   ]
  },
  {
   "cell_type": "code",
   "execution_count": 9,
   "id": "de6c2371",
   "metadata": {},
   "outputs": [
    {
     "name": "stdout",
     "output_type": "stream",
     "text": [
      "4\n",
      "6\n",
      "7\n",
      "8\n",
      "9\n"
     ]
    }
   ],
   "source": [
    "i=3\n",
    "while i<9:\n",
    "    i +=1\n",
    "    if i==5:\n",
    "        continue\n",
    "    print(i)"
   ]
  },
  {
   "cell_type": "code",
   "execution_count": 10,
   "id": "d784276e",
   "metadata": {},
   "outputs": [
    {
     "name": "stdout",
     "output_type": "stream",
     "text": [
      "4\n",
      "5\n",
      "6\n",
      "7\n",
      "8\n",
      "9\n"
     ]
    }
   ],
   "source": [
    "i=3\n",
    "while i<9:\n",
    "    i+=1\n",
    "    print(i)"
   ]
  },
  {
   "cell_type": "markdown",
   "id": "bb65f5d7",
   "metadata": {},
   "source": [
    "# The else Statement\n",
    "- With the else statement we can run a block of code once when the condition no longer is true:\n",
    "\n",
    "## Example\n",
    "-Print a message once the condition is false:"
   ]
  },
  {
   "cell_type": "code",
   "execution_count": 11,
   "id": "20a8e592",
   "metadata": {},
   "outputs": [
    {
     "name": "stdout",
     "output_type": "stream",
     "text": [
      "1\n",
      "2\n",
      "3\n",
      "4\n",
      "5\n",
      "6\n",
      "7\n",
      "8\n",
      "9\n",
      "10\n",
      "11\n",
      "k is no longer less than 12\n"
     ]
    }
   ],
   "source": [
    "k=1\n",
    "while k<12:\n",
    "    print(k)\n",
    "    k+=1\n",
    "else:\n",
    "    print('k is no longer less than 12')"
   ]
  },
  {
   "cell_type": "markdown",
   "id": "a8229bc0",
   "metadata": {},
   "source": [
    "# Python For Loops\n",
    "- A for loop is used for iterating over a sequence (that is either a list, a tuple, a dictionary, a set, or a string).\n",
    "\n",
    "- This is less like the for keyword in other programming languages, and works more like an iterator method as found in other object-orientated programming languages.\n",
    "\n",
    "- With the for loop we can execute a set of statements, once for each item in a list, tuple, set etc.\n",
    "\n",
    "# Example\n",
    "- Get your own Python Server\n",
    "- Print each fruit in a fruit list:"
   ]
  },
  {
   "cell_type": "code",
   "execution_count": 12,
   "id": "631a109e",
   "metadata": {},
   "outputs": [
    {
     "name": "stdout",
     "output_type": "stream",
     "text": [
      "b\n",
      "a\n",
      "n\n",
      "a\n",
      "n\n",
      "a\n"
     ]
    }
   ],
   "source": [
    "fruites='banana'\n",
    "for x in 'banana':\n",
    "    print(x)"
   ]
  },
  {
   "cell_type": "code",
   "execution_count": 13,
   "id": "20c6ead0",
   "metadata": {},
   "outputs": [
    {
     "name": "stdout",
     "output_type": "stream",
     "text": [
      "sadia\n",
      "is\n",
      "a\n",
      "good\n",
      "girl\n"
     ]
    }
   ],
   "source": [
    "fruite=['sadia', 'is', 'a' ,'good','girl']\n",
    "for i in fruite:\n",
    "    print(i)"
   ]
  },
  {
   "cell_type": "markdown",
   "id": "73370229",
   "metadata": {},
   "source": [
    "# The break Statement\n",
    "- With the break statement we can stop the loop before it has looped through all the items:\n",
    "\n",
    "## Example\n",
    "- Exit the loop when x is \"banana\":"
   ]
  },
  {
   "cell_type": "code",
   "execution_count": 19,
   "id": "4c338daf",
   "metadata": {},
   "outputs": [
    {
     "name": "stdout",
     "output_type": "stream",
     "text": [
      "apple\n",
      "banana\n",
      "knife\n"
     ]
    }
   ],
   "source": [
    "bucket=['apple','banana','knife','plates','cucumber']\n",
    "for i in bucket:\n",
    "    print(i)\n",
    "    if i == 'knife':\n",
    "        break"
   ]
  },
  {
   "cell_type": "code",
   "execution_count": 20,
   "id": "70f5ce8f",
   "metadata": {},
   "outputs": [
    {
     "name": "stdout",
     "output_type": "stream",
     "text": [
      "apple\n",
      "banana\n"
     ]
    }
   ],
   "source": [
    "fruits = [\"apple\", \"banana\", \"cherry\"]\n",
    "for x in fruits:\n",
    "  print(x)\n",
    "  if x == \"banana\":\n",
    "    break"
   ]
  },
  {
   "cell_type": "code",
   "execution_count": 21,
   "id": "ec5b1a19",
   "metadata": {},
   "outputs": [
    {
     "name": "stdout",
     "output_type": "stream",
     "text": [
      "apple\n"
     ]
    }
   ],
   "source": [
    "fruits = [\"apple\", \"banana\", \"cherry\"]\n",
    "for x in fruits:\n",
    "  if x == \"banana\":\n",
    "    break\n",
    "  print(x)"
   ]
  },
  {
   "cell_type": "code",
   "execution_count": 22,
   "id": "20b0ed81",
   "metadata": {},
   "outputs": [
    {
     "name": "stdout",
     "output_type": "stream",
     "text": [
      "2\n",
      "3\n",
      "4\n",
      "5\n"
     ]
    }
   ],
   "source": [
    "for x in range(2, 6):\n",
    "  print(x)"
   ]
  },
  {
   "cell_type": "markdown",
   "id": "101d3e56",
   "metadata": {},
   "source": [
    "Example\n",
    "# Increment the sequence with 3 (default is 1):"
   ]
  },
  {
   "cell_type": "code",
   "execution_count": 23,
   "id": "cf41f3a3",
   "metadata": {},
   "outputs": [
    {
     "name": "stdout",
     "output_type": "stream",
     "text": [
      "2\n",
      "7\n",
      "12\n",
      "17\n",
      "22\n",
      "27\n"
     ]
    }
   ],
   "source": [
    "for x in range(2,30,5):\n",
    "    print(x)"
   ]
  },
  {
   "cell_type": "code",
   "execution_count": 25,
   "id": "51232ef6",
   "metadata": {},
   "outputs": [
    {
     "name": "stdout",
     "output_type": "stream",
     "text": [
      "0\n",
      "1\n",
      "2\n",
      "3\n",
      "4\n",
      "5\n",
      "6\n",
      "out of the range\n"
     ]
    }
   ],
   "source": [
    "for h in range(7):\n",
    "    print(h)\n",
    "else:\n",
    "    print('out of the range')"
   ]
  },
  {
   "cell_type": "code",
   "execution_count": 26,
   "id": "6aec99ff",
   "metadata": {},
   "outputs": [
    {
     "name": "stdout",
     "output_type": "stream",
     "text": [
      "0\n",
      "1\n",
      "2\n"
     ]
    }
   ],
   "source": [
    "for x in range(6):\n",
    "  if x == 3:\n",
    "    break\n",
    "  print(x)\n",
    "else:\n",
    "  print(\"Finally finished!\")"
   ]
  },
  {
   "cell_type": "markdown",
   "id": "64b2b75f",
   "metadata": {},
   "source": [
    "# Nested Loops\n",
    "- A nested loop is a loop inside a loop.\n",
    "\n",
    "- The \"inner loop\" will be executed one time for each iteration of the \"outer loop\":\n",
    "\n",
    "## Example\n",
    "- Print each adjective for every fruit:"
   ]
  },
  {
   "cell_type": "code",
   "execution_count": 27,
   "id": "c0696cdf",
   "metadata": {},
   "outputs": [
    {
     "name": "stdout",
     "output_type": "stream",
     "text": [
      "1 5\n",
      "1 0\n",
      "1  \n",
      "1 s\n",
      "1 t\n",
      "1 u\n",
      "1 d\n",
      "1 e\n",
      "1 n\n",
      "1 s\n",
      "1 t\n",
      "0 5\n",
      "0 0\n",
      "0  \n",
      "0 s\n",
      "0 t\n",
      "0 u\n",
      "0 d\n",
      "0 e\n",
      "0 n\n",
      "0 s\n",
      "0 t\n",
      "0 5\n",
      "0 0\n",
      "0  \n",
      "0 s\n",
      "0 t\n",
      "0 u\n",
      "0 d\n",
      "0 e\n",
      "0 n\n",
      "0 s\n",
      "0 t\n",
      "  5\n",
      "  0\n",
      "   \n",
      "  s\n",
      "  t\n",
      "  u\n",
      "  d\n",
      "  e\n",
      "  n\n",
      "  s\n",
      "  t\n",
      "s 5\n",
      "s 0\n",
      "s  \n",
      "s s\n",
      "s t\n",
      "s u\n",
      "s d\n",
      "s e\n",
      "s n\n",
      "s s\n",
      "s t\n",
      "t 5\n",
      "t 0\n",
      "t  \n",
      "t s\n",
      "t t\n",
      "t u\n",
      "t d\n",
      "t e\n",
      "t n\n",
      "t s\n",
      "t t\n",
      "u 5\n",
      "u 0\n",
      "u  \n",
      "u s\n",
      "u t\n",
      "u u\n",
      "u d\n",
      "u e\n",
      "u n\n",
      "u s\n",
      "u t\n",
      "d 5\n",
      "d 0\n",
      "d  \n",
      "d s\n",
      "d t\n",
      "d u\n",
      "d d\n",
      "d e\n",
      "d n\n",
      "d s\n",
      "d t\n",
      "e 5\n",
      "e 0\n",
      "e  \n",
      "e s\n",
      "e t\n",
      "e u\n",
      "e d\n",
      "e e\n",
      "e n\n",
      "e s\n",
      "e t\n",
      "n 5\n",
      "n 0\n",
      "n  \n",
      "n s\n",
      "n t\n",
      "n u\n",
      "n d\n",
      "n e\n",
      "n n\n",
      "n s\n",
      "n t\n",
      "t 5\n",
      "t 0\n",
      "t  \n",
      "t s\n",
      "t t\n",
      "t u\n",
      "t d\n",
      "t e\n",
      "t n\n",
      "t s\n",
      "t t\n",
      "s 5\n",
      "s 0\n",
      "s  \n",
      "s s\n",
      "s t\n",
      "s u\n",
      "s d\n",
      "s e\n",
      "s n\n",
      "s s\n",
      "s t\n"
     ]
    }
   ],
   "source": [
    "school=\"100 students\"\n",
    "collage=\"50 studenst\"\n",
    "for x in school:\n",
    "    for y in collage:\n",
    "        print(x,y)"
   ]
  },
  {
   "cell_type": "code",
   "execution_count": null,
   "id": "0e7c714e",
   "metadata": {},
   "outputs": [],
   "source": []
  }
 ],
 "metadata": {
  "kernelspec": {
   "display_name": "Python 3 (ipykernel)",
   "language": "python",
   "name": "python3"
  },
  "language_info": {
   "codemirror_mode": {
    "name": "ipython",
    "version": 3
   },
   "file_extension": ".py",
   "mimetype": "text/x-python",
   "name": "python",
   "nbconvert_exporter": "python",
   "pygments_lexer": "ipython3",
   "version": "3.9.13"
  }
 },
 "nbformat": 4,
 "nbformat_minor": 5
}
